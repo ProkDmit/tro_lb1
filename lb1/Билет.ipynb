{
 "cells": [
  {
   "cell_type": "code",
   "execution_count": 7,
   "id": "6c1664d1",
   "metadata": {},
   "outputs": [
    {
     "name": "stdout",
     "output_type": "stream",
     "text": [
      "Введите число: 123456\n"
     ]
    }
   ],
   "source": [
    "num=list(map(int, input(\"Введите число: \")))"
   ]
  },
  {
   "cell_type": "code",
   "execution_count": 8,
   "id": "407e3a65",
   "metadata": {},
   "outputs": [
    {
     "name": "stdout",
     "output_type": "stream",
     "text": [
      "обычный\n"
     ]
    }
   ],
   "source": [
    "if sum(num[:3])==sum(num[3:]):\n",
    "    print('счастливый')\n",
    "else:\n",
    "    print('обычный')"
   ]
  },
  {
   "cell_type": "code",
   "execution_count": null,
   "id": "c242b04e",
   "metadata": {},
   "outputs": [],
   "source": []
  }
 ],
 "metadata": {
  "kernelspec": {
   "display_name": "Python 3 (ipykernel)",
   "language": "python",
   "name": "python3"
  },
  "language_info": {
   "codemirror_mode": {
    "name": "ipython",
    "version": 3
   },
   "file_extension": ".py",
   "mimetype": "text/x-python",
   "name": "python",
   "nbconvert_exporter": "python",
   "pygments_lexer": "ipython3",
   "version": "3.9.13"
  }
 },
 "nbformat": 4,
 "nbformat_minor": 5
}
