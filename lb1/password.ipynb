{
 "cells": [
  {
   "cell_type": "markdown",
   "id": "9fcdb934",
   "metadata": {},
   "source": [
    "## Пароль\n",
    "\n",
    "![](http://forum.ixbt.com/post.cgi?id=attach:77:14138:1341:1)\n",
    "\n",
    "Пусть пароль может содержать только латинские буквы, знаки препинания и цифры.\n",
    "\n",
    "Пароль считается надёжным, если удовлетворяет следующим условиям:\n",
    "- содержит буквы в разных регистрах;\n",
    "- содержит цифры;\n",
    "- содержит не менее `4` уникальных символов;\n",
    "- не содержит ваше имя латинницей, записанное буквами любых регистров (anna, iVan, ...).\n",
    "\n",
    "Иначе пароль считается слабым.\n",
    "\n",
    "**Задание:**\n",
    "\n",
    "1) Определите строку `password` — придуманный вами пароль;\n",
    "\n",
    "2) Напишите код, который по паролю `password` проверяет, является ли он надёжным;\n",
    "\n",
    "3) Если пароль надёжный, выведите строку `strong`, иначе — `weak`.\n",
    "\n",
    "\n",
    "---\n",
    "\n",
    "Пусть имя пользоватея -- Андрей.\n",
    "\n",
    "**Пример 1:**\n",
    "\n",
    "*Input:* Aandrei123\n",
    "\n",
    "*Output:* weak\n",
    "\n",
    "\n",
    "**Пример 2:**\n",
    "\n",
    "*Input:* an12dRei\n",
    "\n",
    "*Output:* strong"
   ]
  },
  {
   "cell_type": "code",
   "execution_count": 1,
   "id": "68232e89",
   "metadata": {},
   "outputs": [],
   "source": [
    "pas='password6335'"
   ]
  },
  {
   "cell_type": "code",
   "execution_count": 3,
   "id": "c7ae5d8f",
   "metadata": {},
   "outputs": [
    {
     "name": "stdout",
     "output_type": "stream",
     "text": [
      "weak\n"
     ]
    }
   ],
   "source": [
    "k = pas.lower().count(\"andrei\")\n",
    "if k == 0:\n",
    "    uq = set(pas)\n",
    "    lower_flag = False\n",
    "    upper_flag = False\n",
    "    digit_flag = False\n",
    "    for char in uq:\n",
    "        if char.islower():\n",
    "            lower_flag = True\n",
    "        if char.isupper():\n",
    "            upper_flag = True\n",
    "        if char.isdigit():\n",
    "            digit_flag = True\n",
    "    if len(uq) >= 4 and lower_flag and upper_flag and digit_flag:\n",
    "        print('strong')\n",
    "    else:\n",
    "        print('weak')\n",
    "else:\n",
    "    print('weak')"
   ]
  },
  {
   "cell_type": "code",
   "execution_count": null,
   "id": "a01a10e2",
   "metadata": {},
   "outputs": [],
   "source": []
  }
 ],
 "metadata": {
  "kernelspec": {
   "display_name": "Python 3 (ipykernel)",
   "language": "python",
   "name": "python3"
  },
  "language_info": {
   "codemirror_mode": {
    "name": "ipython",
    "version": 3
   },
   "file_extension": ".py",
   "mimetype": "text/x-python",
   "name": "python",
   "nbconvert_exporter": "python",
   "pygments_lexer": "ipython3",
   "version": "3.9.13"
  }
 },
 "nbformat": 4,
 "nbformat_minor": 5
}
