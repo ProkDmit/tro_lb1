{
 "cells": [
  {
   "cell_type": "markdown",
   "metadata": {},
   "source": [
    "## Время исследований\n",
    "\n",
    "![](https://2.bp.blogspot.com/-VOT5x12UqPY/WSh53tQ94HI/AAAAAAAAAMY/-nlcz28_Fj4UzJjbn4bBINKCnzwag1W4QCLcB/s1600/my-pic-widget.jpg)\n",
    "\n",
    "На сайте https://www.kaggle.com/ выберите любой набор данных в формате CSV и проведите для него маленькое исследование: загрузите данные из набора с использованием стандартного модуля `csv`, посмотрите средние значения и стандартные отклонения двух выбранных числовых атрибутов, найдите [методом наименьших квадратов](https://ru.wikipedia.org/wiki/%D0%9C%D0%B5%D1%82%D0%BE%D0%B4_%D0%BD%D0%B0%D0%B8%D0%BC%D0%B5%D0%BD%D1%8C%D1%88%D0%B8%D1%85_%D0%BA%D0%B2%D0%B0%D0%B4%D1%80%D0%B0%D1%82%D0%BE%D0%B2) уравнение линейной зависимости, связывающей один числовой атрибут с другим. Для оценки заданной зависимости найдите [коэффициент парной корреляции](https://ru.wikipedia.org/wiki/%D0%9A%D0%BE%D1%80%D1%80%D0%B5%D0%BB%D1%8F%D1%86%D0%B8%D1%8F), сделайте соответствующие выводы.\n",
    "\n",
    "**Результаты надо обязательно прокомментировать и пояснить!**\n",
    "\n",
    "---\n",
    "\n",
    "**Пример 1:**\n",
    "\n",
    "Пусть таблица `bikes.csv` содержит данные по арендам велосипедов за $2$ года:\n",
    "- `datetime`: дата и время аренды\n",
    "- `season`: время года\n",
    "- `temp`: температура воздуха по Цельсию\n",
    "- `windspeed`: скорость ветра \n",
    "- `registered`: число аренд\n",
    "\n",
    "Одно из направлений исследования могло бы заключаться в проверке зависимости суммарного числа аренд от температуры воздуха."
   ]
  },
  {
   "cell_type": "markdown",
   "metadata": {},
   "source": [
    "*в такой ячейке (режим Markdown) можно писать текст*"
   ]
  },
  {
   "cell_type": "markdown",
   "metadata": {
    "collapsed": true
   },
   "source": [
    "# San Francisco Airport Runway Use 01L/R gade"
   ]
  },
  {
   "cell_type": "code",
   "execution_count": 11,
   "metadata": {},
   "outputs": [
    {
     "name": "stdout",
     "output_type": "stream",
     "text": [
      "Среднее кол-во/год уехавших заграницу людей: 870.1818181818181\n",
      "Средний % людей/год уехавших заграницу: 22.507272727272724\n",
      "Стандартное отклонение в кол-ве людей: 452.00349958419974\n",
      "Стандартное отклонение в % людей: 11.503561266763514\n",
      "Уравнение линейной зависимости: y = -0.001017899035311498x + 270.0857476707372\n"
     ]
    },
    {
     "data": {
      "text/plain": [
       "[<matplotlib.lines.Line2D at 0x1c11caceca0>]"
      ]
     },
     "execution_count": 11,
     "metadata": {},
     "output_type": "execute_result"
    },
    {
     "data": {
      "image/png": "[encoded data removed]",
      "text/plain": [
       "<Figure size 640x480 with 1 Axes>"
      ]
     },
     "metadata": {},
     "output_type": "display_data"
    }
   ],
   "source": [
    "import csv\n",
    "from matplotlib import pylab as plt\n",
    "import statistics\n",
    "%matplotlib inline\n",
    "\n",
    "\n",
    "def ShortFloat(a, digits=0):\n",
    "    return f\"{a:.{digits}f}\"\n",
    "\n",
    "\n",
    "year = []\n",
    "count_people = []\n",
    "perc_people = []\n",
    "temp_y = 0\n",
    "cp = 0\n",
    "pp = 0\n",
    "\n",
    "with open('late-night-preferential-runway-use-1.csv', 'r', newline='', encoding='utf-8') as csvfile:\n",
    "    reader = csv.reader(csvfile, delimiter=',')\n",
    "    next(reader)\n",
    "    for k in reader:\n",
    "        if k[1] != \"N/A\":\n",
    "            if int(k[1]) != temp_y:\n",
    "                year.append(int(k[1]))\n",
    "                temp_y = int(k[1])\n",
    "                count_people.append(cp)\n",
    "                pp = pp / 12\n",
    "                pp = float(ShortFloat(pp, 2))\n",
    "                perc_people.append(pp)\n",
    "                cp = 0\n",
    "                pp = 0\n",
    "            else:\n",
    "                cp += int(k[3])\n",
    "                r = k[4].find('%')\n",
    "                temp_pp = \"\"\n",
    "                temp_pp = str(k[4])\n",
    "                temp_pp = temp_pp[:r]\n",
    "                pp += int(temp_pp)\n",
    "\n",
    "aver_cpeop = 0\n",
    "for peoples in count_people:\n",
    "    aver_cpeop += peoples   \n",
    "aver_cpeop = aver_cpeop / len(count_people)\n",
    "print(f'Среднее кол-во/год уехавших заграницу людей: {aver_cpeop}')\n",
    "\n",
    "aver_ppeop = 0\n",
    "for percents in perc_people:\n",
    "    aver_ppeop += percents\n",
    "aver_ppeop = aver_ppeop / len(perc_people)\n",
    "print(f'Средний % людей/год уехавших заграницу: {aver_ppeop}')\n",
    "\n",
    "stocp = statistics.stdev(count_people)\n",
    "stopp = statistics.stdev(perc_people)\n",
    "print(f'Стандартное отклонение в кол-ве людей: {stocp}')\n",
    "print(f'Стандартное отклонение в % людей: {stopp}')\n",
    "\n",
    "s_year = sum(year)\n",
    "s_pp = sum(perc_people)\n",
    "sqy = 0\n",
    "yearpp = 0\n",
    "for i, item in enumerate(year):\n",
    "    sqy += s_year ** 2\n",
    "    yearpp += year[i] * perc_people[i]  \n",
    "a = (s_pp * s_year - yearpp) /  (s_year ** 2 - sqy)\n",
    "b = (yearpp - sqy * a) / s_year\n",
    "print(f\"Уравнение линейной зависимости: y = {a}x + {b}\")\n",
    "\n",
    "y = []\n",
    "for elem in year:\n",
    "    y.append(a * elem + b)\n",
    "\n",
    "plt.plot(year, y)"
   ]
  },
  {
   "cell_type": "code",
   "execution_count": null,
   "metadata": {},
   "outputs": [],
   "source": []
  }
 ],
 "metadata": {
  "anaconda-cloud": {},
  "kernelspec": {
   "display_name": "Python 3 (ipykernel)",
   "language": "python",
   "name": "python3"
  },
  "language_info": {
   "codemirror_mode": {
    "name": "ipython",
    "version": 3
   },
   "file_extension": ".py",
   "mimetype": "text/x-python",
   "name": "python",
   "nbconvert_exporter": "python",
   "pygments_lexer": "ipython3",
   "version": "3.9.13"
  }
 },
 "nbformat": 4,
 "nbformat_minor": 1
}
